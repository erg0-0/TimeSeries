{
 "cells": [
  {
   "cell_type": "code",
   "execution_count": 6,
   "metadata": {},
   "outputs": [],
   "source": [
    "import pandas as pd\n"
   ]
  },
  {
   "cell_type": "code",
   "execution_count": 8,
   "metadata": {},
   "outputs": [],
   "source": [
    "df = pd.read_csv('Forecast3.csv')"
   ]
  },
  {
   "cell_type": "code",
   "execution_count": 11,
   "metadata": {},
   "outputs": [
    {
     "name": "stdout",
     "output_type": "stream",
     "text": [
      "(36, 11)\n",
      "Index(['Posting period', 'Mexico', 'Argentina', 'Chile',\n",
      "       'Other Conosur (Bol/Per/Uru)', 'Brazil', 'Colombia', 'Ecuador', 'Peru',\n",
      "       'Venezuela(Bol.R)', 'Caribe'],\n",
      "      dtype='object')\n",
      "  Posting period        Mexico     Argentina        Chile  \\\n",
      "0     01.01.2015  13054.861216   6387.879429  1175.000028   \n",
      "1     01.02.2015  14653.245782   7665.894889  1106.758264   \n",
      "2     01.03.2015  17711.860626  11092.400412  1343.099707   \n",
      "3     01.04.2015  14714.165992  10967.026270  1824.999989   \n",
      "4     01.05.2015  16485.796197  10406.698982  1913.999986   \n",
      "\n",
      "   Other Conosur (Bol/Per/Uru)        Brazil     Colombia      Ecuador  \\\n",
      "0                  1006.486060   4938.999993  4874.249215  2906.999999   \n",
      "1                  1125.733670   9493.999981  6302.572298  2470.999999   \n",
      "2                  1553.252033  13966.000009  5235.863566  2413.999992   \n",
      "3                  1356.402942   9401.999987  5585.366677  2622.000000   \n",
      "4                  1143.423202  14231.999985  6083.215209   744.999991   \n",
      "\n",
      "          Peru  Venezuela(Bol.R)        Caribe  \n",
      "0  1437.999979       2397.999999   7847.000112  \n",
      "1  1552.000016       3058.999994   8890.000061  \n",
      "2  2147.528587       2793.999993  10857.495058  \n",
      "3  1334.043620      -7490.000002   8892.999932  \n",
      "4  1355.746533        250.000008   8910.495095  \n"
     ]
    }
   ],
   "source": [
    "print(df.shape)\n",
    "print(df.columns)\n",
    "print(df.head())"
   ]
  },
  {
   "attachments": {},
   "cell_type": "markdown",
   "metadata": {},
   "source": [
    "stworzyc slownik na Conosur ( Argentina Bolivia, Pl.St Chile Paraguay Uruguay) oraz na Andean ( Colombia Ecuador Peru Venezuela,Bol.R)"
   ]
  },
  {
   "cell_type": "code",
   "execution_count": null,
   "metadata": {},
   "outputs": [],
   "source": []
  }
 ],
 "metadata": {
  "kernelspec": {
   "display_name": "Python 3",
   "language": "python",
   "name": "python3"
  },
  "language_info": {
   "codemirror_mode": {
    "name": "ipython",
    "version": 3
   },
   "file_extension": ".py",
   "mimetype": "text/x-python",
   "name": "python",
   "nbconvert_exporter": "python",
   "pygments_lexer": "ipython3",
   "version": "3.6.8"
  }
 },
 "nbformat": 4,
 "nbformat_minor": 2
}
