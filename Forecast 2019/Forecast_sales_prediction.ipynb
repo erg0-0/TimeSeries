{
 "cells": [
  {
   "cell_type": "code",
   "execution_count": 2,
   "metadata": {},
   "outputs": [],
   "source": [
    "import pandas as pd\n"
   ]
  },
  {
   "cell_type": "code",
   "execution_count": 4,
   "metadata": {},
   "outputs": [],
   "source": [
    "df = pd.read_csv('Case studies Data Analyst_V2.csv')"
   ]
  },
  {
   "cell_type": "code",
   "execution_count": 5,
   "metadata": {},
   "outputs": [
    {
     "name": "stdout",
     "output_type": "stream",
     "text": [
      "(36, 2)\n",
      "Index(['Posting period / Country final-dest.;Mexico;Argentina;Chile;Other Conosur (Bol/Per/Uru);Brazil;Colombia;Ecuador;Peru;Venezuela', 'Bol.R;Caribe'], dtype='object')\n",
      "  Posting period / Country final-dest.;Mexico;Argentina;Chile;Other Conosur (Bol/Per/Uru);Brazil;Colombia;Ecuador;Peru;Venezuela  \\\n",
      "0  01.01.2015;13 055;6 388;1 175;1 006;4 939;4 87...                                                                               \n",
      "1  01.02.2015;14 653;7 666;1 107;1 126;9 494;6 30...                                                                               \n",
      "2  01.03.2015;17 712;11 092;1 343;1 553;13 966;5 ...                                                                               \n",
      "3  01.04.2015;14 714;10 967;1 825;1 356;9 402;5 5...                                                                               \n",
      "4  01.05.2015;16 486;10 407;1 914;1 143;14 232;6 ...                                                                               \n",
      "\n",
      "   Bol.R;Caribe  \n",
      "0           NaN  \n",
      "1           NaN  \n",
      "2           NaN  \n",
      "3           NaN  \n",
      "4           NaN  \n"
     ]
    }
   ],
   "source": [
    "print(df.shape)\n",
    "print(df.columns)\n",
    "print(df.head())"
   ]
  },
  {
   "cell_type": "code",
   "execution_count": null,
   "metadata": {},
   "outputs": [],
   "source": []
  }
 ],
 "metadata": {
  "kernelspec": {
   "display_name": "Python 3",
   "language": "python",
   "name": "python3"
  },
  "language_info": {
   "codemirror_mode": {
    "name": "ipython",
    "version": 3
   },
   "file_extension": ".py",
   "mimetype": "text/x-python",
   "name": "python",
   "nbconvert_exporter": "python",
   "pygments_lexer": "ipython3",
   "version": "3.6.8"
  }
 },
 "nbformat": 4,
 "nbformat_minor": 2
}
