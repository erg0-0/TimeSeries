{
 "cells": [
  {
   "cell_type": "code",
   "execution_count": 2,
   "metadata": {},
   "outputs": [],
   "source": [
    "import pandas as pd\n"
   ]
  },
  {
   "cell_type": "code",
   "execution_count": 9,
   "metadata": {},
   "outputs": [],
   "source": [
    "df = pd.read_csv('Forecast2.csv')"
   ]
  },
  {
   "cell_type": "code",
   "execution_count": 8,
   "metadata": {},
   "outputs": [
    {
     "name": "stdout",
     "output_type": "stream",
     "text": [
      "(36, 2)\n",
      "Index(['Posting period / Country final-dest.;Mexico;Argentina;Chile;Other Conosur (Bol/Per/Uru);Brazil;Colombia;Ecuador;Peru;Venezuela', 'Bol.R;Caribe'], dtype='object')\n",
      "                                                                                                                        Posting period / Country final-dest.;Mexico;Argentina;Chile;Other Conosur (Bol/Per/Uru);Brazil;Colombia;Ecuador;Peru;Venezuela  \\\n",
      "01.01.2015;13054 86122;6387  879429;1175 000028;1006 48606;4938   999993;4874 249215;2906      999999;1437  999979;2397                                        999999;7847                                                                               \n",
      "01.02.2015;14653 24578;7665  894889;1106 758264;1125 73367;9493   999981;6302 572298;2470      999999;1552  000016;3058                                        999994;8890                                                                               \n",
      "01.03.2015;17711 86063;11092 40041;1343  099707;1553 252033;13966 00001;5235  863566;2413      999992;2147  528587;2793                                       999993;10857                                                                               \n",
      "01.04.2015;14714 16599;10967 02627;1824  999989;1356 402942;9401  999987;5585 366677;2622;1334 04362;-7490  000002;8892                                             999932                                                                               \n",
      "01.05.2015;16485 7962;10406  69898;1913  999986;1143 423202;14231 99998;6083  215209;744       9999912;1355 746533;250                                         000008;8910                                                                               \n",
      "\n",
      "                                                                                                                         Bol.R;Caribe  \n",
      "01.01.2015;13054 86122;6387  879429;1175 000028;1006 48606;4938   999993;4874 249215;2906      999999;1437  999979;2397         112.0  \n",
      "01.02.2015;14653 24578;7665  894889;1106 758264;1125 73367;9493   999981;6302 572298;2470      999999;1552  000016;3058          61.0  \n",
      "01.03.2015;17711 86063;11092 40041;1343  099707;1553 252033;13966 00001;5235  863566;2413      999992;2147  528587;2793       49506.0  \n",
      "01.04.2015;14714 16599;10967 02627;1824  999989;1356 402942;9401  999987;5585 366677;2622;1334 04362;-7490  000002;8892           NaN  \n",
      "01.05.2015;16485 7962;10406  69898;1913  999986;1143 423202;14231 99998;6083  215209;744       9999912;1355 746533;250       495095.0  \n"
     ]
    }
   ],
   "source": [
    "print(df.shape)\n",
    "print(df.columns)\n",
    "print(df.head())"
   ]
  },
  {
   "cell_type": "code",
   "execution_count": null,
   "metadata": {},
   "outputs": [],
   "source": []
  }
 ],
 "metadata": {
  "kernelspec": {
   "display_name": "Python 3",
   "language": "python",
   "name": "python3"
  },
  "language_info": {
   "codemirror_mode": {
    "name": "ipython",
    "version": 3
   },
   "file_extension": ".py",
   "mimetype": "text/x-python",
   "name": "python",
   "nbconvert_exporter": "python",
   "pygments_lexer": "ipython3",
   "version": "3.6.8"
  }
 },
 "nbformat": 4,
 "nbformat_minor": 2
}
